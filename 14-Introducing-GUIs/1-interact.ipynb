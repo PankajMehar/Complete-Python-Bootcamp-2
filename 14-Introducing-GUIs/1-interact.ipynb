{
 "cells": [
  {
   "cell_type": "code",
   "execution_count": 1,
   "metadata": {
    "collapsed": false
   },
   "outputs": [],
   "source": [
    "from ipywidgets import interact, interactive, fixed\n",
    "import ipywidgets as widget"
   ]
  },
  {
   "cell_type": "code",
   "execution_count": 2,
   "metadata": {
    "collapsed": false
   },
   "outputs": [],
   "source": [
    "# very basic fucntion\n",
    "def f(x):\n",
    "    return x"
   ]
  },
  {
   "cell_type": "code",
   "execution_count": 3,
   "metadata": {
    "collapsed": false
   },
   "outputs": [
    {
     "data": {
      "text/plain": [
       "17"
      ]
     },
     "metadata": {},
     "output_type": "display_data"
    }
   ],
   "source": [
    "# generate slider to interact with\n",
    "interact(f, x=10,);"
   ]
  },
  {
   "cell_type": "code",
   "execution_count": 4,
   "metadata": {
    "collapsed": false
   },
   "outputs": [
    {
     "data": {
      "text/plain": [
       "True"
      ]
     },
     "metadata": {},
     "output_type": "display_data"
    }
   ],
   "source": [
    "# booleans generate check boxes\n",
    "interact(f, x=True);"
   ]
  },
  {
   "cell_type": "code",
   "execution_count": 6,
   "metadata": {
    "collapsed": false
   },
   "outputs": [
    {
     "data": {
      "text/plain": [
       "'Hi there! you too'"
      ]
     },
     "metadata": {},
     "output_type": "display_data"
    }
   ],
   "source": [
    "# strings generate text areas\n",
    "interact(f, x='Hi there!');"
   ]
  },
  {
   "cell_type": "code",
   "execution_count": 7,
   "metadata": {
    "collapsed": false
   },
   "outputs": [
    {
     "data": {
      "text/plain": [
       "(False, -0.7)"
      ]
     },
     "metadata": {},
     "output_type": "display_data"
    }
   ],
   "source": [
    "# interact can also be used as a decorator\n",
    "@interact(x=True, y=1.0)\n",
    "def g(x, y):\n",
    "    return (x, y)"
   ]
  },
  {
   "cell_type": "code",
   "execution_count": 8,
   "metadata": {
    "collapsed": true
   },
   "outputs": [],
   "source": [
    "# again a simple function\n",
    "def h(p, q):\n",
    "    return(p, q)"
   ]
  },
  {
   "cell_type": "code",
   "execution_count": 10,
   "metadata": {
    "collapsed": false
   },
   "outputs": [
    {
     "data": {
      "text/plain": [
       "(8, 20)"
      ]
     },
     "metadata": {},
     "output_type": "display_data"
    }
   ],
   "source": [
    "# pass fixed(20) for q to hold it fixed at a value of 20\n",
    "interact(h, p=5, q=fixed(20));"
   ]
  },
  {
   "cell_type": "code",
   "execution_count": null,
   "metadata": {
    "collapsed": true
   },
   "outputs": [],
   "source": []
  }
 ],
 "metadata": {
  "kernelspec": {
   "display_name": "Python 3",
   "language": "python",
   "name": "python3"
  },
  "language_info": {
   "codemirror_mode": {
    "name": "ipython",
    "version": 3
   },
   "file_extension": ".py",
   "mimetype": "text/x-python",
   "name": "python",
   "nbconvert_exporter": "python",
   "pygments_lexer": "ipython3",
   "version": "3.5.2"
  },
  "widgets": {
   "state": {
    "30300b6c85c5437b9e6ccf9964ab0cb0": {
     "views": []
    },
    "31eb57b1af234cabb4250abba0d7a843": {
     "views": []
    },
    "3dbd7f1532db4c559a3a73ba1cac63e1": {
     "views": []
    },
    "424dc5b15791402b8c8847547c1a2834": {
     "views": []
    },
    "460ef3a91f2f47eabf7b3adb161d98aa": {
     "views": [
      {
       "cell_index": 4
      }
     ]
    },
    "4b90cf6b4d514ad49ecb5cd4665f0a45": {
     "views": []
    },
    "53e38a631b8a4f218027432d4d0d12e6": {
     "views": [
      {
       "cell_index": 7
      }
     ]
    },
    "5b91923ff65a4015bb21ff67c5c93730": {
     "views": []
    },
    "6052b7cff0c8453692273483dc45b910": {
     "views": []
    },
    "66f4b06a3cbc477db3787b3a06c04b1c": {
     "views": []
    },
    "6764ff0d016c44a281b5c595bed3cd4b": {
     "views": []
    },
    "7658bc43c5ff470ab37adc611e079139": {
     "views": []
    },
    "7bf71550878140acaee82065349c3bd6": {
     "views": []
    },
    "80317cf36bfc40bf8f8b09f6242a9006": {
     "views": [
      {
       "cell_index": 5
      }
     ]
    },
    "9063c343b1d24059b02e1832296b13e8": {
     "views": []
    },
    "92987b38f7f14ffda35bcc88c8b39b02": {
     "views": []
    },
    "935be0e992c94f0ca48a6ecdb26079c0": {
     "views": []
    },
    "9c5492a3830149dcbe8ec13b6a50f004": {
     "views": []
    },
    "a35c0b5881234f2cb82c8309ff31b576": {
     "views": []
    },
    "a4e5d1234e2c423b91f48af13268e342": {
     "views": [
      {
       "cell_index": 2
      }
     ]
    },
    "aa8780761e6b4bf981eed270209fe234": {
     "views": []
    },
    "aed9dabe5ee64034962b55f051c11734": {
     "views": []
    },
    "bb7100a0d9d94d09b26c5555d6b365b5": {
     "views": []
    },
    "c0536266c4a54f55a2ad557cc4ba298c": {
     "views": [
      {
       "cell_index": 3
      }
     ]
    },
    "c2d8ef7c3dfe4cc1b0b3774a43f33011": {
     "views": []
    },
    "c5fe6105d77940d29f1c221f8ccb5562": {
     "views": []
    },
    "c69b8f7e9fc54ec7803f456bf2f5b197": {
     "views": []
    },
    "ddf7989a901649ada37be8ba06475a7b": {
     "views": []
    },
    "e1a3460dce1446a8bc18f79be6e6e13d": {
     "views": []
    },
    "f4c2a1ec9ac4420193158374e2765800": {
     "views": []
    }
   },
   "version": "1.1.2"
  }
 },
 "nbformat": 4,
 "nbformat_minor": 0
}
